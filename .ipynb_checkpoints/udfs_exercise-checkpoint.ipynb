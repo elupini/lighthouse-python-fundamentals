{
 "cells": [
  {
   "cell_type": "markdown",
   "metadata": {},
   "source": [
    "# UDFs in Python"
   ]
  },
  {
   "cell_type": "markdown",
   "metadata": {},
   "source": [
    "#### Greeter\n",
    "Write a function that takes in a person's name, and prints out a greeting.\n",
    "The greeting must be at least three lines, and the person's name must be in each line.\n",
    "Use your function to greet at least **three** different people.\n",
    "\n",
    "**Bonus:** Store your three people in a list, and call your function from a for loop.\n",
    "\n",
    "\n",
    "**Example Output:**\n",
    "\n",
    "Hello John!<br>\n",
    "Hello John!<br>\n",
    "Hello John!<br>"
   ]
  },
  {
   "cell_type": "code",
   "execution_count": 3,
   "metadata": {},
   "outputs": [
    {
     "name": "stdout",
     "output_type": "stream",
     "text": [
      "Hello Harry!\n",
      "Hola Harry!\n",
      "Salut Harry!\n",
      "Hello Ron!\n",
      "Hola Ron!\n",
      "Salut Ron!\n",
      "Hello Hermione!\n",
      "Hola Hermione!\n",
      "Salut Hermione!\n"
     ]
    }
   ],
   "source": [
    "def greeting(name):\n",
    "\n",
    "        print(\"Hello {}!\".format(name))\n",
    "        print(\"Hola {}!\".format(name))\n",
    "        print(\"Salut {}!\".format(name))\n",
    "        \n",
    "people = ['Harry', 'Ron', 'Hermione']\n",
    "\n",
    "for i in people:\n",
    "    greeting(i)\n",
    "    "
   ]
  },
  {
   "cell_type": "code",
   "execution_count": null,
   "metadata": {},
   "outputs": [],
   "source": []
  },
  {
   "cell_type": "markdown",
   "metadata": {},
   "source": [
    "#### Full Names\n",
    "Write a function that takes in a first name and a last name, and prints out a nicely formatted full name, in a sentence. Your sentence could be as simple as, \"Hello, full_name.\""
   ]
  },
  {
   "cell_type": "code",
   "execution_count": 5,
   "metadata": {},
   "outputs": [
    {
     "name": "stdout",
     "output_type": "stream",
     "text": [
      "Hello Albus Dumbledore, I hope you're having a fantastic day\n"
     ]
    }
   ],
   "source": [
    "def formatted_full_name(fname, lname):\n",
    "    full_name = (fname + \" \" + lname).title()\n",
    "    \n",
    "    print(\"Hello {}, I hope you're having a fantastic day\".format(full_name))\n",
    "\n",
    "formatted_full_name('albus', 'dumbledore')"
   ]
  },
  {
   "cell_type": "code",
   "execution_count": null,
   "metadata": {},
   "outputs": [],
   "source": []
  },
  {
   "cell_type": "markdown",
   "metadata": {},
   "source": [
    "#### Addition Calculator\n",
    "Write a function that takes in two numbers, and adds them together. Make your function print out a sentence showing the two numbers, and the result.\n",
    "\n",
    "**Example Output:**\n",
    "\n",
    "The sum of 2 and 3 is 5."
   ]
  },
  {
   "cell_type": "code",
   "execution_count": 6,
   "metadata": {},
   "outputs": [
    {
     "name": "stdout",
     "output_type": "stream",
     "text": [
      "The sum of 10 and 50 is 60\n"
     ]
    }
   ],
   "source": [
    "def summation(num1, num2):\n",
    "    sum = num1 + num2\n",
    "    print(\"The sum of {} and {} is {}\".format(num1, num2, sum))\n",
    "\n",
    "summation(10, 50)"
   ]
  },
  {
   "cell_type": "code",
   "execution_count": null,
   "metadata": {},
   "outputs": [],
   "source": []
  },
  {
   "cell_type": "markdown",
   "metadata": {},
   "source": [
    "#### Return Calculator\n",
    "Modify Addition Calculator so that your function **returns** the sum of the two numbers. The printing should happen outside of the function."
   ]
  },
  {
   "cell_type": "code",
   "execution_count": 7,
   "metadata": {},
   "outputs": [
    {
     "name": "stdout",
     "output_type": "stream",
     "text": [
      "The sum of 10 and 17 is 27\n"
     ]
    }
   ],
   "source": [
    "def summation(num1, num2):\n",
    "    return num1 + num2\n",
    "\n",
    "print(\"The sum of 10 and 17 is {}\".format(summation(10, 17)))"
   ]
  },
  {
   "cell_type": "code",
   "execution_count": null,
   "metadata": {},
   "outputs": [],
   "source": []
  },
  {
   "cell_type": "markdown",
   "metadata": {},
   "source": [
    "#### Sum everything in the list\n",
    "\n",
    "Write a Python function to sum all the numbers in a list"
   ]
  },
  {
   "cell_type": "code",
   "execution_count": 9,
   "metadata": {},
   "outputs": [
    {
     "name": "stdout",
     "output_type": "stream",
     "text": [
      "The sum of the items in the list is 20\n"
     ]
    }
   ],
   "source": [
    "def list_summation(values):\n",
    "    total = 0\n",
    "    for i in values:\n",
    "        total += i\n",
    "    return total\n",
    "\n",
    "nums = [2, 4, 6, 8]\n",
    "\n",
    "print(\"The sum of the items in the list is {}\".format(list_summation(nums)))"
   ]
  },
  {
   "cell_type": "code",
   "execution_count": null,
   "metadata": {},
   "outputs": [],
   "source": []
  },
  {
   "cell_type": "markdown",
   "metadata": {},
   "source": [
    "#### Reverse string\n",
    "\n",
    "Write a Python program to reverse a string.\n",
    "\n",
    "Sample String : \"1234abcd\" <br>\n",
    "Expected Output : \"dcba4321\""
   ]
  },
  {
   "cell_type": "code",
   "execution_count": 12,
   "metadata": {},
   "outputs": [
    {
     "data": {
      "text/plain": [
       "'789olleH321'"
      ]
     },
     "execution_count": 12,
     "metadata": {},
     "output_type": "execute_result"
    }
   ],
   "source": [
    "def reverse_string(to_reverse):\n",
    "    reversed_string = to_reverse[::-1]\n",
    "    return reversed_string\n",
    "\n",
    "reverse_string('123Hello987')"
   ]
  },
  {
   "cell_type": "code",
   "execution_count": null,
   "metadata": {},
   "outputs": [],
   "source": []
  },
  {
   "cell_type": "markdown",
   "metadata": {},
   "source": [
    "#### Range check\n",
    "\n",
    "Write a Python function to check whether a number is in a given range. \n",
    "\n",
    "Inputs: number, tuple of min and max<br>\n",
    "Outputs: True/False"
   ]
  },
  {
   "cell_type": "code",
   "execution_count": 20,
   "metadata": {},
   "outputs": [
    {
     "name": "stdout",
     "output_type": "stream",
     "text": [
      "Expected outcome is True: True\n",
      "Expected outcome is False: False\n",
      "Expected outcome is True: True\n",
      "Expected outcome is False: False\n"
     ]
    }
   ],
   "source": [
    "def inRange(value, minmax):\n",
    "    if minmax[0] <= value <= minmax[1]:\n",
    "        return True\n",
    "    return False\n",
    "\n",
    "print(\"Expected outcome is True: {}\".format(inRange(10, (3, 30))))\n",
    "print(\"Expected outcome is False: {}\".format(inRange(50, (1, 7))))\n",
    "print(\"Expected outcome is True: {}\".format(inRange(200, (100, 5000))))\n",
    "print(\"Expected outcome is False: {}\".format(inRange(3000, (5000, 6000))))"
   ]
  },
  {
   "cell_type": "code",
   "execution_count": null,
   "metadata": {},
   "outputs": [],
   "source": []
  },
  {
   "cell_type": "code",
   "execution_count": null,
   "metadata": {},
   "outputs": [],
   "source": []
  }
 ],
 "metadata": {
  "kernelspec": {
   "display_name": "Python 3",
   "language": "python",
   "name": "python3"
  },
  "language_info": {
   "codemirror_mode": {
    "name": "ipython",
    "version": 3
   },
   "file_extension": ".py",
   "mimetype": "text/x-python",
   "name": "python",
   "nbconvert_exporter": "python",
   "pygments_lexer": "ipython3",
   "version": "3.8.3"
  }
 },
 "nbformat": 4,
 "nbformat_minor": 4
}
